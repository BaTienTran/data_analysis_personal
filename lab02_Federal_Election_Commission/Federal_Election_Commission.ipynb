{
 "cells": [
  {
   "cell_type": "markdown",
   "id": "f79188a3",
   "metadata": {},
   "source": [
    "# FEDERAL ELECTION COMMISSION"
   ]
  },
  {
   "cell_type": "markdown",
   "id": "63ef0a65",
   "metadata": {},
   "source": [
    "# 1. "
   ]
  },
  {
   "cell_type": "markdown",
   "id": "25443b19",
   "metadata": {},
   "source": [
    "## 2. ĐỌC & LÀM SẠCH DỮ LIỆU"
   ]
  },
  {
   "cell_type": "code",
   "execution_count": 1,
   "id": "4060feb8",
   "metadata": {},
   "outputs": [
    {
     "name": "stdout",
     "output_type": "stream",
     "text": [
      "<class 'pandas.core.frame.DataFrame'>\n",
      "RangeIndex: 1001731 entries, 0 to 1001730\n",
      "Data columns (total 16 columns):\n",
      " #   Column             Non-Null Count    Dtype  \n",
      "---  ------             --------------    -----  \n",
      " 0   cmte_id            1001731 non-null  object \n",
      " 1   cand_id            1001731 non-null  object \n",
      " 2   cand_nm            1001731 non-null  object \n",
      " 3   contbr_nm          1001731 non-null  object \n",
      " 4   contbr_city        1001712 non-null  object \n",
      " 5   contbr_st          1001727 non-null  object \n",
      " 6   contbr_zip         1001620 non-null  object \n",
      " 7   contbr_employer    988002 non-null   object \n",
      " 8   contbr_occupation  993301 non-null   object \n",
      " 9   contb_receipt_amt  1001731 non-null  float64\n",
      " 10  contb_receipt_dt   1001731 non-null  object \n",
      " 11  receipt_desc       14166 non-null    object \n",
      " 12  memo_cd            92482 non-null    object \n",
      " 13  memo_text          97770 non-null    object \n",
      " 14  form_tp            1001731 non-null  object \n",
      " 15  file_num           1001731 non-null  int64  \n",
      "dtypes: float64(1), int64(1), object(14)\n",
      "memory usage: 122.3+ MB\n"
     ]
    }
   ],
   "source": [
    "# 2.1. Import thư viện cần thiết\n",
    "import pandas as pd\n",
    "import numpy as np\n",
    "# 2.2. Đọc dữ liệu FEC gốc\n",
    "fec = pd.read_csv(\"datasets/P00000001-ALL.csv\", low_memory=False)\n",
    "# 2.3. Khám phá sơ bộ\n",
    "# Xem cấu trúc\n",
    "fec.info()"
   ]
  },
  {
   "cell_type": "code",
   "execution_count": 3,
   "id": "fe545ce9",
   "metadata": {},
   "outputs": [
    {
     "data": {
      "text/plain": [
       "receipt_desc         987565\n",
       "memo_cd              909249\n",
       "memo_text            903961\n",
       "contbr_employer       13729\n",
       "contbr_occupation      8430\n",
       "contbr_zip              111\n",
       "contbr_city              19\n",
       "contbr_st                 4\n",
       "cmte_id                   0\n",
       "cand_id                   0\n",
       "cand_nm                   0\n",
       "contbr_nm                 0\n",
       "contb_receipt_dt          0\n",
       "contb_receipt_amt         0\n",
       "form_tp                   0\n",
       "file_num                  0\n",
       "dtype: int64"
      ]
     },
     "execution_count": 3,
     "metadata": {},
     "output_type": "execute_result"
    }
   ],
   "source": [
    "# 2.4. Kiểm tra giá trị thiếu\n",
    "fec.isna().sum().sort_values(ascending=False).head(16)\n"
   ]
  },
  {
   "cell_type": "code",
   "execution_count": 5,
   "id": "b805c262",
   "metadata": {},
   "outputs": [
    {
     "data": {
      "text/plain": [
       "contb_receipt_amt\n",
       "True    991475\n",
       "Name: count, dtype: int64"
      ]
     },
     "execution_count": 5,
     "metadata": {},
     "output_type": "execute_result"
    }
   ],
   "source": [
    "# 2.5. Giữ lại các cột cần thiết\n",
    "# Ta chỉ cần 10 cột chính liên quan đến phân tích tài chính – xã hội\n",
    "fec = fec[[\n",
    "    \"cand_nm\", \"contbr_nm\", \"contbr_city\", \"contbr_st\", \"contbr_zip\",\n",
    "    \"contbr_employer\", \"contbr_occupation\",\n",
    "    \"contb_receipt_amt\", \"contb_receipt_dt\"\n",
    "]]\n",
    "# 2.6. Loại bỏ các khoản hoàn tiền (số âm)\n",
    "fec = fec[fec[\"contb_receipt_amt\"] > 0]\n",
    "# Kiểm tra\n",
    "(fec[\"contb_receipt_amt\"] > 0).value_counts()\n",
    "\n"
   ]
  },
  {
   "cell_type": "code",
   "execution_count": null,
   "id": "afcbafb2",
   "metadata": {},
   "outputs": [],
   "source": [
    "# 2.7. Chuẩn hóa kiểu dữ liệu ngày tháng\n",
    "fec[\"contb_receipt_dt\"] = pd.to_datetime(fec[\"contb_receipt_dt\"], errors=\"coerce\")\n",
    "# errors=\"coerce\": nếu giá trị ngày sai định dạng → chuyển thành NaT (null date)."
   ]
  }
 ],
 "metadata": {
  "kernelspec": {
   "display_name": "ds",
   "language": "python",
   "name": "python3"
  },
  "language_info": {
   "codemirror_mode": {
    "name": "ipython",
    "version": 3
   },
   "file_extension": ".py",
   "mimetype": "text/x-python",
   "name": "python",
   "nbconvert_exporter": "python",
   "pygments_lexer": "ipython3",
   "version": "3.11.13"
  }
 },
 "nbformat": 4,
 "nbformat_minor": 5
}
