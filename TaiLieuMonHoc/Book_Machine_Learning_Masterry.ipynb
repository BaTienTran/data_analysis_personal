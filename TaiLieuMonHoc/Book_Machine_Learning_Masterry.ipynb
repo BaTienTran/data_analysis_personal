{
 "cells": [
  {
   "cell_type": "markdown",
   "id": "2a73f777",
   "metadata": {},
   "source": [
    "# Chapter 2: Python ecosystem for Machine Learning (47/179)\n",
    "## 2.4 Python ecosystem installation\n",
    "### 2.4.2 How to install SciPy"
   ]
  },
  {
   "cell_type": "code",
   "execution_count": 1,
   "id": "729daa87",
   "metadata": {},
   "outputs": [
    {
     "name": "stdout",
     "output_type": "stream",
     "text": [
      "scipy: 1.16.0\n",
      "numpy: 2.0.1\n"
     ]
    }
   ],
   "source": [
    "# scipy\n",
    "import scipy\n",
    "print('scipy: {}'.format(scipy.__version__))\n",
    "# numpy\n",
    "import numpy\n",
    "print('numpy: {}'.format(numpy.__version__))"
   ]
  },
  {
   "cell_type": "code",
   "execution_count": 2,
   "id": "1090f50d",
   "metadata": {},
   "outputs": [
    {
     "name": "stdout",
     "output_type": "stream",
     "text": [
      "matplotlib: 3.10.6\n",
      "pandas: 2.3.2\n"
     ]
    }
   ],
   "source": [
    "# matplotlib\n",
    "import matplotlib\n",
    "print('matplotlib: {}'.format(matplotlib.__version__))\n",
    "# pandas\n",
    "import pandas\n",
    "print('pandas: {}'.format(pandas.__version__))"
   ]
  },
  {
   "cell_type": "markdown",
   "id": "31af7058",
   "metadata": {},
   "source": [
    "### 2.4.3 How to install scikit-learn"
   ]
  },
  {
   "cell_type": "code",
   "execution_count": 3,
   "id": "99a9683a",
   "metadata": {},
   "outputs": [
    {
     "name": "stdout",
     "output_type": "stream",
     "text": [
      "sklearn: 1.7.1\n"
     ]
    }
   ],
   "source": [
    "# scikit-learn\n",
    "import sklearn\n",
    "print('sklearn: {}'.format(sklearn.__version__))"
   ]
  },
  {
   "cell_type": "markdown",
   "id": "8ddfc237",
   "metadata": {},
   "source": [
    "## Chapter 3: Crash Course in Python and SciPy"
   ]
  },
  {
   "cell_type": "markdown",
   "id": "2d165365",
   "metadata": {},
   "source": [
    "## 3.1 Python Crash Course"
   ]
  },
  {
   "cell_type": "markdown",
   "id": "00427244",
   "metadata": {},
   "source": [
    "### 3.1.1 Assignment"
   ]
  },
  {
   "cell_type": "code",
   "execution_count": 4,
   "id": "e55484c9",
   "metadata": {},
   "outputs": [
    {
     "name": "stdout",
     "output_type": "stream",
     "text": [
      "h\n",
      "11\n",
      "hello world\n"
     ]
    }
   ],
   "source": [
    "# Strings\n",
    "data = 'hello world'\n",
    "print(data[0])\n",
    "print(len(data))\n",
    "print(data)"
   ]
  },
  {
   "cell_type": "code",
   "execution_count": 5,
   "id": "b59b7217",
   "metadata": {},
   "outputs": [
    {
     "name": "stdout",
     "output_type": "stream",
     "text": [
      "123.1\n",
      "10\n"
     ]
    }
   ],
   "source": [
    "# Numbers\n",
    "value = 123.1\n",
    "print(value)\n",
    "value = 10\n",
    "print(value)"
   ]
  },
  {
   "cell_type": "code",
   "execution_count": 6,
   "id": "f0855f44",
   "metadata": {},
   "outputs": [
    {
     "name": "stdout",
     "output_type": "stream",
     "text": [
      "True False\n"
     ]
    }
   ],
   "source": [
    "# Boolean\n",
    "a = True\n",
    "b = False\n",
    "print(a, b)"
   ]
  },
  {
   "cell_type": "code",
   "execution_count": 7,
   "id": "5e966b86",
   "metadata": {},
   "outputs": [
    {
     "name": "stdout",
     "output_type": "stream",
     "text": [
      "1 2 3\n"
     ]
    }
   ],
   "source": [
    "# Multiple Assignment\n",
    "a, b, c = 1, 2, 3\n",
    "print(a, b, c)"
   ]
  },
  {
   "cell_type": "code",
   "execution_count": 8,
   "id": "8a453067",
   "metadata": {},
   "outputs": [
    {
     "name": "stdout",
     "output_type": "stream",
     "text": [
      "None\n"
     ]
    }
   ],
   "source": [
    "# No value\n",
    "a = None\n",
    "print(a)"
   ]
  },
  {
   "cell_type": "markdown",
   "id": "25b6906e",
   "metadata": {},
   "source": [
    "### 3.1.2 Flow Control"
   ]
  },
  {
   "cell_type": "code",
   "execution_count": 9,
   "id": "fe27e770",
   "metadata": {},
   "outputs": [
    {
     "name": "stdout",
     "output_type": "stream",
     "text": [
      "That is fast\n"
     ]
    }
   ],
   "source": [
    "# If-Then-Else Conditional\n",
    "value = 99\n",
    "if value == 99:\n",
    "    print(\"That is fast\")\n",
    "elif value > 200:\n",
    "    print(\"That is too fast\")\n",
    "else:\n",
    "    print(\"That is safe\")"
   ]
  },
  {
   "cell_type": "code",
   "execution_count": 10,
   "id": "ad5c7862",
   "metadata": {},
   "outputs": [
    {
     "name": "stdout",
     "output_type": "stream",
     "text": [
      "0\n",
      "1\n",
      "2\n",
      "3\n",
      "4\n",
      "5\n",
      "6\n",
      "7\n",
      "8\n",
      "9\n"
     ]
    }
   ],
   "source": [
    "# For-Loop\n",
    "for i in range(10):\n",
    "    print(i)"
   ]
  },
  {
   "cell_type": "code",
   "execution_count": 11,
   "id": "285bc713",
   "metadata": {},
   "outputs": [
    {
     "name": "stdout",
     "output_type": "stream",
     "text": [
      "0\n",
      "1\n",
      "2\n",
      "3\n",
      "4\n",
      "5\n",
      "6\n",
      "7\n",
      "8\n",
      "9\n"
     ]
    }
   ],
   "source": [
    "# While-Loop\n",
    "i = 0\n",
    "while i < 10:\n",
    "    print(i)\n",
    "    i += 1"
   ]
  },
  {
   "cell_type": "markdown",
   "id": "e914c254",
   "metadata": {},
   "source": [
    "### 3.1.3 Data Structures"
   ]
  },
  {
   "cell_type": "code",
   "execution_count": 12,
   "id": "d22e287e",
   "metadata": {},
   "outputs": [
    {
     "name": "stdout",
     "output_type": "stream",
     "text": [
      "(1, 2, 3)\n"
     ]
    }
   ],
   "source": [
    "# Tuple\n",
    "a = (1, 2, 3)\n",
    "print(a)"
   ]
  },
  {
   "cell_type": "code",
   "execution_count": 16,
   "id": "b816e110",
   "metadata": {},
   "outputs": [
    {
     "name": "stdout",
     "output_type": "stream",
     "text": [
      "Zeroth Value: 1\n",
      "List Length: 4\n",
      "1\n",
      "2\n",
      "3\n",
      "4\n"
     ]
    }
   ],
   "source": [
    "# List\n",
    "mylist = [1, 2, 3]\n",
    "print(\"Zeroth Value: %d\" % mylist[0])\n",
    "mylist.append(4)\n",
    "print(\"List Length: %d\" % len(mylist))\n",
    "for value in mylist:\n",
    "    print(value)"
   ]
  },
  {
   "cell_type": "code",
   "execution_count": 17,
   "id": "ac00407d",
   "metadata": {},
   "outputs": [
    {
     "name": "stdout",
     "output_type": "stream",
     "text": [
      "A value: 1\n",
      "A value: 11\n",
      "Keys: dict_keys(['a', 'b', 'c'])\n",
      "Values: dict_values([11, 2, 3])\n",
      "11\n",
      "2\n",
      "3\n"
     ]
    }
   ],
   "source": [
    "# Dictionary\n",
    "mydict = {'a': 1, 'b': 2, 'c': 3}\n",
    "print(\"A value: %d\" % mydict['a'])\n",
    "mydict['a'] = 11\n",
    "print(\"A value: %d\" % mydict['a'])\n",
    "print(\"Keys: %s\" % mydict.keys())\n",
    "print(\"Values: %s\" % mydict.values())\n",
    "for key in mydict.keys():\n",
    "    print(mydict[key])"
   ]
  },
  {
   "cell_type": "code",
   "execution_count": 18,
   "id": "7801a6c8",
   "metadata": {},
   "outputs": [
    {
     "name": "stdout",
     "output_type": "stream",
     "text": [
      "4\n"
     ]
    }
   ],
   "source": [
    "# Sum function\n",
    "def mysum(x, y):\n",
    "    return x + y\n",
    "# Test sum function\n",
    "result = mysum(1, 3)\n",
    "print(result)"
   ]
  },
  {
   "cell_type": "markdown",
   "id": "b4217112",
   "metadata": {},
   "source": [
    "## 3.2 NumPy Crash Course"
   ]
  },
  {
   "cell_type": "markdown",
   "id": "85e1d743",
   "metadata": {},
   "source": [
    "### 3.2.1 Create Array"
   ]
  },
  {
   "cell_type": "code",
   "execution_count": 19,
   "id": "9185b0e2",
   "metadata": {},
   "outputs": [
    {
     "name": "stdout",
     "output_type": "stream",
     "text": [
      "[1 2 3]\n",
      "(3,)\n"
     ]
    }
   ],
   "source": [
    "# define an array\n",
    "import numpy\n",
    "mylist = [1, 2, 3]\n",
    "myarray = numpy.array(mylist)\n",
    "print(myarray)\n",
    "print(myarray.shape)"
   ]
  },
  {
   "cell_type": "markdown",
   "id": "7de3c5ba",
   "metadata": {},
   "source": [
    "### 3.2.2 Access Data"
   ]
  },
  {
   "cell_type": "code",
   "execution_count": 2,
   "id": "49e91bf5",
   "metadata": {},
   "outputs": [
    {
     "name": "stdout",
     "output_type": "stream",
     "text": [
      "[[1 2 3]\n",
      " [3 4 5]]\n",
      "(2, 3)\n",
      "First row: [1 2 3]\n",
      "Last row: [3 4 5]\n",
      "Specific row and col: 3\n",
      "Whole col: [3 5]\n"
     ]
    }
   ],
   "source": [
    "# access values\n",
    "import numpy\n",
    "mylist = [[1, 2, 3], [3, 4, 5]]\n",
    "myarray = numpy.array(mylist)\n",
    "print(myarray)\n",
    "print(myarray.shape)\n",
    "print(\"First row: %s\" % myarray[0])\n",
    "print(\"Last row: %s\" % myarray[-1])\n",
    "print(\"Specific row and col: %s\" % myarray[0, 2])\n",
    "print(\"Whole col: %s\" % myarray[:, 2])"
   ]
  },
  {
   "cell_type": "markdown",
   "id": "d68ba88c",
   "metadata": {},
   "source": [
    "### 3.2.3 Arithmetic"
   ]
  },
  {
   "cell_type": "code",
   "execution_count": 3,
   "id": "4f3f91e5",
   "metadata": {},
   "outputs": [
    {
     "name": "stdout",
     "output_type": "stream",
     "text": [
      "Addition: [5 5 5]\n",
      "Multiplication: [6 6 6]\n"
     ]
    }
   ],
   "source": [
    "# arithmetic\n",
    "import numpy\n",
    "myarray1 = numpy.array([2, 2, 2])\n",
    "myarray2 = numpy.array([3, 3, 3])\n",
    "print(\"Addition: %s\" % (myarray1 + myarray2))\n",
    "print(\"Multiplication: %s\" % (myarray1 * myarray2))"
   ]
  },
  {
   "cell_type": "markdown",
   "id": "3242ebc7",
   "metadata": {},
   "source": [
    "## 3.3 Matplotlib Crash Course"
   ]
  },
  {
   "cell_type": "markdown",
   "id": "98057b66",
   "metadata": {},
   "source": [
    "### 3.3.1 Line Plot"
   ]
  },
  {
   "cell_type": "code",
   "execution_count": 4,
   "id": "d35f42d0",
   "metadata": {},
   "outputs": [
    {
     "data": {
      "image/png": "[encoded data removed]",
      "text/plain": [
       "<Figure size 640x480 with 1 Axes>"
      ]
     },
     "metadata": {},
     "output_type": "display_data"
    }
   ],
   "source": [
    "# basic line plot\n",
    "import matplotlib.pyplot as plt\n",
    "import numpy\n",
    "myarray = numpy.array([1, 2, 3])\n",
    "plt.plot(myarray)\n",
    "plt.xlabel('some x axis')\n",
    "plt.ylabel('some y axis')\n",
    "plt.show()"
   ]
  },
  {
   "cell_type": "markdown",
   "id": "d8f1f934",
   "metadata": {},
   "source": [
    "### 3.3.2 Scatter Plot"
   ]
  },
  {
   "cell_type": "code",
   "execution_count": 6,
   "id": "7eeeb7cb",
   "metadata": {},
   "outputs": [
    {
     "data": {
      "image/png": "[encoded data removed]",
      "text/plain": [
       "<Figure size 640x480 with 1 Axes>"
      ]
     },
     "metadata": {},
     "output_type": "display_data"
    }
   ],
   "source": [
    "# basic scatter plot\n",
    "# scatter: phân tán\n",
    "import matplotlib.pyplot as plt\n",
    "import numpy\n",
    "x = numpy.array([1, 2, 3])\n",
    "y = numpy.array([2, 4, 6])\n",
    "plt.scatter(x,y)\n",
    "plt.xlabel('some x axis')\n",
    "plt.ylabel('some y axis')\n",
    "plt.show()"
   ]
  },
  {
   "cell_type": "markdown",
   "id": "a0d0378f",
   "metadata": {},
   "source": [
    "## 3.4 Pandas Crash Course"
   ]
  },
  {
   "cell_type": "markdown",
   "id": "58f2362c",
   "metadata": {},
   "source": [
    "### 3.4.1 Series"
   ]
  },
  {
   "cell_type": "code",
   "execution_count": 7,
   "id": "daf67e26",
   "metadata": {},
   "outputs": [
    {
     "name": "stdout",
     "output_type": "stream",
     "text": [
      "a    1\n",
      "b    2\n",
      "c    3\n",
      "dtype: int64\n"
     ]
    }
   ],
   "source": [
    "# series\n",
    "import numpy\n",
    "import pandas\n",
    "myarray = numpy.array([1, 2, 3])\n",
    "rownames = ['a', 'b', 'c']\n",
    "myseries = pandas.Series(myarray, index=rownames)\n",
    "print(myseries)"
   ]
  },
  {
   "cell_type": "markdown",
   "id": "e017b28c",
   "metadata": {},
   "source": [
    "### 3.4.2 DataFrame"
   ]
  },
  {
   "cell_type": "code",
   "execution_count": 8,
   "id": "a8f92326",
   "metadata": {},
   "outputs": [
    {
     "name": "stdout",
     "output_type": "stream",
     "text": [
      "   one  two  three\n",
      "a    1    2      3\n",
      "b    4    5      6\n"
     ]
    }
   ],
   "source": [
    "# dataframe\n",
    "import numpy\n",
    "import pandas\n",
    "myarray = numpy.array([[1, 2, 3], [4, 5, 6]])\n",
    "rownames = ['a', 'b']\n",
    "colnames = ['one', 'two', 'three']\n",
    "mydataframe = pandas.DataFrame(myarray, index=rownames, columns=colnames)\n",
    "print(mydataframe)"
   ]
  },
  {
   "cell_type": "markdown",
   "id": "9a34094d",
   "metadata": {},
   "source": [
    "## 3.5 Summary"
   ]
  },
  {
   "cell_type": "markdown",
   "id": "6b7bdb0e",
   "metadata": {},
   "source": [
    "### 3.5.1 Next"
   ]
  },
  {
   "cell_type": "markdown",
   "id": "593f1cd0",
   "metadata": {},
   "source": [
    "# Chapter 4: How To Load Machine Learning Data"
   ]
  },
  {
   "cell_type": "markdown",
   "id": "de131e9e",
   "metadata": {},
   "source": [
    "## 4.1 Considerations When Loading CSV Data\n",
    "## 4.2 Pima Indians Dataset\n",
    "## 4.3 Load CSV Files with the Python Standard Library"
   ]
  },
  {
   "cell_type": "code",
   "execution_count": 18,
   "id": "72506876",
   "metadata": {},
   "outputs": [
    {
     "name": "stdout",
     "output_type": "stream",
     "text": [
      "(768, 9)\n"
     ]
    }
   ],
   "source": [
    "import csv\n",
    "import numpy as np\n",
    "\n",
    "filename = '../dataset/diabetes.csv'\n",
    "\n",
    "with open(filename, 'r', encoding='utf-8') as raw_data:\n",
    "    reader = csv.reader(raw_data, delimiter=',', quoting=csv.QUOTE_NONE)\n",
    "    next(reader, None)\n",
    "    x = list(reader)\n",
    "\n",
    "data = np.array(x).astype(float)\n",
    "print(data.shape)"
   ]
  },
  {
   "cell_type": "markdown",
   "id": "72a77ad6",
   "metadata": {},
   "source": [
    "## 4.4 Load CSV Files with NumPy"
   ]
  },
  {
   "cell_type": "code",
   "execution_count": 6,
   "id": "f6a11a76",
   "metadata": {},
   "outputs": [
    {
     "name": "stdout",
     "output_type": "stream",
     "text": [
      "(768, 9)\n"
     ]
    }
   ],
   "source": [
    "# Load CSV using NumPy\n",
    "from numpy import loadtxt\n",
    "filename = '../dataset/diabetes.csv'\n",
    "raw_data = open(filename, 'rb')\n",
    "data = loadtxt(raw_data, delimiter=\",\", skiprows=1)\n",
    "print(data.shape)"
   ]
  },
  {
   "cell_type": "markdown",
   "id": "39cdaad4",
   "metadata": {},
   "source": [
    "## 4.5 Load CSV Files with Pandas"
   ]
  },
  {
   "cell_type": "code",
   "execution_count": 7,
   "id": "b8b194ca",
   "metadata": {},
   "outputs": [
    {
     "name": "stdout",
     "output_type": "stream",
     "text": [
      "(769, 9)\n"
     ]
    }
   ],
   "source": [
    "# Load CSV using Pandas\n",
    "from pandas import read_csv\n",
    "filename = '../dataset/diabetes.csv'\n",
    "names = ['preg', 'plas', 'pres', 'skin', 'test', 'mass', 'pedi', 'age', 'class']\n",
    "data = read_csv(filename, names=names)\n",
    "print(data.shape)"
   ]
  },
  {
   "cell_type": "markdown",
   "id": "81768158",
   "metadata": {},
   "source": [
    "# Chapter 5: Understand Your Data With Descriptive Statistics"
   ]
  },
  {
   "cell_type": "markdown",
   "id": "b8691f63",
   "metadata": {},
   "source": [
    "## 5.1 Peek at Your Data"
   ]
  },
  {
   "cell_type": "code",
   "execution_count": 8,
   "id": "b2983f37",
   "metadata": {},
   "outputs": [
    {
     "name": "stdout",
     "output_type": "stream",
     "text": [
      "           preg     plas           pres           skin     test  mass  \\\n",
      "0   Pregnancies  Glucose  BloodPressure  SkinThickness  Insulin   BMI   \n",
      "1             6      148             72             35        0  33.6   \n",
      "2             1       85             66             29        0  26.6   \n",
      "3             8      183             64              0        0  23.3   \n",
      "4             1       89             66             23       94  28.1   \n",
      "5             0      137             40             35      168  43.1   \n",
      "6             5      116             74              0        0  25.6   \n",
      "7             3       78             50             32       88    31   \n",
      "8            10      115              0              0        0  35.3   \n",
      "9             2      197             70             45      543  30.5   \n",
      "10            8      125             96              0        0     0   \n",
      "11            4      110             92              0        0  37.6   \n",
      "12           10      168             74              0        0    38   \n",
      "13           10      139             80              0        0  27.1   \n",
      "14            1      189             60             23      846  30.1   \n",
      "15            5      166             72             19      175  25.8   \n",
      "16            7      100              0              0        0    30   \n",
      "17            0      118             84             47      230  45.8   \n",
      "18            7      107             74              0        0  29.6   \n",
      "19            1      103             30             38       83  43.3   \n",
      "\n",
      "                        pedi  age    class  \n",
      "0   DiabetesPedigreeFunction  Age  Outcome  \n",
      "1                      0.627   50        1  \n",
      "2                      0.351   31        0  \n",
      "3                      0.672   32        1  \n",
      "4                      0.167   21        0  \n",
      "5                      2.288   33        1  \n",
      "6                      0.201   30        0  \n",
      "7                      0.248   26        1  \n",
      "8                      0.134   29        0  \n",
      "9                      0.158   53        1  \n",
      "10                     0.232   54        1  \n",
      "11                     0.191   30        0  \n",
      "12                     0.537   34        1  \n",
      "13                     1.441   57        0  \n",
      "14                     0.398   59        1  \n",
      "15                     0.587   51        1  \n",
      "16                     0.484   32        1  \n",
      "17                     0.551   31        1  \n",
      "18                     0.254   31        1  \n",
      "19                     0.183   33        0  \n"
     ]
    }
   ],
   "source": [
    "# View first 20 rows\n",
    "from pandas import read_csv\n",
    "filename = \"../dataset/diabetes.csv\"\n",
    "names = ['preg', 'plas', 'pres', 'skin', 'test', 'mass', 'pedi', 'age', 'class']\n",
    "data = read_csv(filename, names=names)\n",
    "peek = data.head(20)\n",
    "print(peek)"
   ]
  },
  {
   "cell_type": "markdown",
   "id": "c8dbcca8",
   "metadata": {},
   "source": [
    "## 5.2 Dimensions of Your Data"
   ]
  },
  {
   "cell_type": "code",
   "execution_count": 9,
   "id": "667cc2a7",
   "metadata": {},
   "outputs": [
    {
     "name": "stdout",
     "output_type": "stream",
     "text": [
      "(769, 9)\n"
     ]
    }
   ],
   "source": [
    "# dimention: kich thuoc\n",
    "# Dimensions of your data\n",
    "from pandas import read_csv\n",
    "filename = \"../dataset/diabetes.csv\"\n",
    "names = ['preg', 'plas', 'pres', 'skin', 'test', 'mass', 'pedi', 'age', 'class']\n",
    "data = read_csv(filename, names=names)\n",
    "shape = data.shape\n",
    "print(shape)"
   ]
  },
  {
   "cell_type": "markdown",
   "id": "a865fbd5",
   "metadata": {},
   "source": [
    "## 5.3 Data Type For Each Attribute"
   ]
  },
  {
   "cell_type": "code",
   "execution_count": 10,
   "id": "a3393d47",
   "metadata": {},
   "outputs": [
    {
     "name": "stdout",
     "output_type": "stream",
     "text": [
      "preg     object\n",
      "plas     object\n",
      "pres     object\n",
      "skin     object\n",
      "test     object\n",
      "mass     object\n",
      "pedi     object\n",
      "age      object\n",
      "class    object\n",
      "dtype: object\n"
     ]
    }
   ],
   "source": [
    "# Data Types for Each Attribute\n",
    "from pandas import read_csv\n",
    "filename = \"../dataset/diabetes.csv\"\n",
    "names = ['preg', 'plas', 'pres', 'skin', 'test', 'mass', 'pedi', 'age', 'class']\n",
    "data = read_csv(filename, names=names)\n",
    "types = data.dtypes\n",
    "print(types)"
   ]
  },
  {
   "cell_type": "markdown",
   "id": "73d504d9",
   "metadata": {},
   "source": [
    "## 5.4 Descriptive Statistics"
   ]
  },
  {
   "cell_type": "code",
   "execution_count": 15,
   "id": "7213c569",
   "metadata": {},
   "outputs": [
    {
     "name": "stdout",
     "output_type": "stream",
     "text": [
      "          preg     plas     pres     skin     test     mass     pedi      age    class\n",
      "count  768.000  768.000  768.000  768.000  768.000  768.000  768.000  768.000  768.000\n",
      "mean     3.845  120.895   69.105   20.536   79.799   31.993    0.472   33.241    0.349\n",
      "std      3.370   31.973   19.356   15.952  115.244    7.884    0.331   11.760    0.477\n",
      "min      0.000    0.000    0.000    0.000    0.000    0.000    0.078   21.000    0.000\n",
      "25%      1.000   99.000   62.000    0.000    0.000   27.300    0.244   24.000    0.000\n",
      "50%      3.000  117.000   72.000   23.000   30.500   32.000    0.372   29.000    0.000\n",
      "75%      6.000  140.250   80.000   32.000  127.250   36.600    0.626   41.000    1.000\n",
      "max     17.000  199.000  122.000   99.000  846.000   67.100    2.420   81.000    1.000\n"
     ]
    }
   ],
   "source": [
    "# Descriptive Statistics: thong ke mo ta\n",
    "from pandas import read_csv, set_option\n",
    "filename = \"../dataset/diabetes.csv\"\n",
    "names = ['preg', 'plas', 'pres', 'skin', 'test', 'mass', 'pedi', 'age', 'class']\n",
    "data = read_csv(filename, names=names, header=0)\n",
    "set_option('display.width', 100)\n",
    "set_option('display.precision', 3)\n",
    "description = data.describe()\n",
    "print(description)"
   ]
  },
  {
   "cell_type": "markdown",
   "id": "0c1d15eb",
   "metadata": {},
   "source": [
    "## 5.5 Class Distribution (Classification Only)"
   ]
  },
  {
   "cell_type": "code",
   "execution_count": 16,
   "id": "4019f724",
   "metadata": {},
   "outputs": [
    {
     "name": "stdout",
     "output_type": "stream",
     "text": [
      "class\n",
      "0          500\n",
      "1          268\n",
      "Outcome      1\n",
      "dtype: int64\n"
     ]
    }
   ],
   "source": [
    "# Distribution: phan phoi\n",
    "# Class Distribution\n",
    "from pandas import read_csv\n",
    "filename = \"../dataset/diabetes.csv\"\n",
    "names = ['preg', 'plas', 'pres', 'skin', 'test', 'mass', 'pedi', 'age', 'class']\n",
    "data = read_csv(filename, names=names)\n",
    "class_counts = data.groupby('class').size()\n",
    "print(class_counts)"
   ]
  },
  {
   "cell_type": "markdown",
   "id": "42cbb2a6",
   "metadata": {},
   "source": [
    "## 5.6 Correlations Between Attributes"
   ]
  },
  {
   "cell_type": "code",
   "execution_count": 23,
   "id": "9f977168",
   "metadata": {},
   "outputs": [
    {
     "name": "stdout",
     "output_type": "stream",
     "text": [
      "        preg   plas   pres   skin   test   mass   pedi    age  class\n",
      "preg   1.000  0.129  0.141 -0.082 -0.074  0.018 -0.034  0.544  0.222\n",
      "plas   0.129  1.000  0.153  0.057  0.331  0.221  0.137  0.264  0.467\n",
      "pres   0.141  0.153  1.000  0.207  0.089  0.282  0.041  0.240  0.065\n",
      "skin  -0.082  0.057  0.207  1.000  0.437  0.393  0.184 -0.114  0.075\n",
      "test  -0.074  0.331  0.089  0.437  1.000  0.198  0.185 -0.042  0.131\n",
      "mass   0.018  0.221  0.282  0.393  0.198  1.000  0.141  0.036  0.293\n",
      "pedi  -0.034  0.137  0.041  0.184  0.185  0.141  1.000  0.034  0.174\n",
      "age    0.544  0.264  0.240 -0.114 -0.042  0.036  0.034  1.000  0.238\n",
      "class  0.222  0.467  0.065  0.075  0.131  0.293  0.174  0.238  1.000\n"
     ]
    }
   ],
   "source": [
    "# correlation: moi tuong quan\n",
    "from pandas import read_csv, set_option\n",
    "\n",
    "filename = \"../dataset/diabetes.csv\"\n",
    "names = ['preg', 'plas', 'pres', 'skin', 'test', 'mass', 'pedi', 'age', 'class']\n",
    "\n",
    "# đọc file đúng cách, bỏ dòng header gốc\n",
    "data = read_csv(filename, names=names, header=0)\n",
    "\n",
    "set_option('display.width', 100)\n",
    "set_option('display.precision', 3)\n",
    "\n",
    "# Tính hệ số tương quan Pearson\n",
    "correlations = data.corr(method='pearson')\n",
    "print(correlations)\n"
   ]
  },
  {
   "cell_type": "markdown",
   "id": "42c5ce26",
   "metadata": {},
   "source": [
    "## 5.7 Skew of Univariate Distributions"
   ]
  },
  {
   "cell_type": "code",
   "execution_count": 26,
   "id": "e0f3a61a",
   "metadata": {},
   "outputs": [
    {
     "name": "stdout",
     "output_type": "stream",
     "text": [
      "preg     0.902\n",
      "plas     0.174\n",
      "pres    -1.844\n",
      "skin     0.109\n",
      "test     2.272\n",
      "mass    -0.429\n",
      "pedi     1.920\n",
      "age      1.130\n",
      "class    0.635\n",
      "dtype: float64\n"
     ]
    }
   ],
   "source": [
    "# skew of univariate distributions: do lech cua phan phoi don bien\n",
    "# Skew for each attribute\n",
    "from pandas import read_csv\n",
    "filename = \"../dataset/diabetes.csv\"\n",
    "names = ['preg', 'plas', 'pres', 'skin', 'test', 'mass', 'pedi', 'age', 'class']\n",
    "data = read_csv(filename, names=names, header = 0)\n",
    "skew = data.skew()\n",
    "print(skew)"
   ]
  },
  {
   "cell_type": "markdown",
   "id": "ed53c39d",
   "metadata": {},
   "source": [
    "# Chapter 6: Understand Your Data With Visualization"
   ]
  }
 ],
 "metadata": {
  "kernelspec": {
   "display_name": "ds",
   "language": "python",
   "name": "python3"
  },
  "language_info": {
   "codemirror_mode": {
    "name": "ipython",
    "version": 3
   },
   "file_extension": ".py",
   "mimetype": "text/x-python",
   "name": "python",
   "nbconvert_exporter": "python",
   "pygments_lexer": "ipython3",
   "version": "3.11.13"
  }
 },
 "nbformat": 4,
 "nbformat_minor": 5
}
