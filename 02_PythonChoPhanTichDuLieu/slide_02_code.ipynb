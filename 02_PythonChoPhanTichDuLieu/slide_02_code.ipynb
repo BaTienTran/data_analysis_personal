{
 "cells": [
  {
   "cell_type": "markdown",
   "id": "f08b9268",
   "metadata": {},
   "source": [
    "# BẮT ĐẦU"
   ]
  },
  {
   "cell_type": "markdown",
   "id": "3a252aba",
   "metadata": {},
   "source": [
    "## Python Syntax"
   ]
  },
  {
   "cell_type": "code",
   "execution_count": 18,
   "id": "20433dfd",
   "metadata": {},
   "outputs": [
    {
     "name": "stdout",
     "output_type": "stream",
     "text": [
      "Hello World\n"
     ]
    }
   ],
   "source": [
    "print(\"Hello World\")"
   ]
  },
  {
   "cell_type": "markdown",
   "id": "7292a765",
   "metadata": {},
   "source": [
    "## comment"
   ]
  },
  {
   "cell_type": "code",
   "execution_count": 19,
   "id": "91618917",
   "metadata": {},
   "outputs": [],
   "source": [
    "# comment"
   ]
  },
  {
   "cell_type": "markdown",
   "id": "0e340acb",
   "metadata": {},
   "source": [
    "## Indentation"
   ]
  },
  {
   "cell_type": "code",
   "execution_count": 20,
   "id": "d58197e6",
   "metadata": {},
   "outputs": [
    {
     "name": "stdout",
     "output_type": "stream",
     "text": [
      "Pass\n"
     ]
    }
   ],
   "source": [
    "score = 80\n",
    "if score >=60 :\n",
    "    print(\"Pass\")"
   ]
  },
  {
   "cell_type": "markdown",
   "id": "40ea29a3",
   "metadata": {},
   "source": [
    "## Python Variables"
   ]
  },
  {
   "cell_type": "code",
   "execution_count": 21,
   "id": "6e0cdfae",
   "metadata": {},
   "outputs": [
    {
     "name": "stdout",
     "output_type": "stream",
     "text": [
      "2\n",
      "2.5\n",
      "Hello\n",
      "Hello\n",
      "Hello\n",
      "Hello\n"
     ]
    }
   ],
   "source": [
    "x = 2\n",
    "print(x)\n",
    "price = 2.5\n",
    "print(price)\n",
    "word = 'Hello'\n",
    "print(word)\n",
    "word = 'Hello'\n",
    "print(word)\n",
    "word = \"Hello\"\n",
    "print(word)\n",
    "word = '''Hello'''\n",
    "print(word)"
   ]
  },
  {
   "cell_type": "code",
   "execution_count": 22,
   "id": "5160a3d2",
   "metadata": {},
   "outputs": [
    {
     "name": "stdout",
     "output_type": "stream",
     "text": [
      "2\n",
      "3\n"
     ]
    }
   ],
   "source": [
    "x = 2\n",
    "print(x)\n",
    "y = x + 1\n",
    "print(y)"
   ]
  },
  {
   "cell_type": "markdown",
   "id": "beea6b03",
   "metadata": {},
   "source": [
    "## python_version()"
   ]
  },
  {
   "cell_type": "code",
   "execution_count": 23,
   "id": "030beef3",
   "metadata": {},
   "outputs": [
    {
     "name": "stdout",
     "output_type": "stream",
     "text": [
      "Python Version: 3.13.0\n"
     ]
    }
   ],
   "source": [
    "# comment\n",
    "from platform import python_version\n",
    "print(\"Python Version:\", python_version())"
   ]
  },
  {
   "cell_type": "markdown",
   "id": "b50caf7c",
   "metadata": {},
   "source": [
    "## Python Data Types"
   ]
  },
  {
   "cell_type": "code",
   "execution_count": 24,
   "id": "f56411e2",
   "metadata": {},
   "outputs": [
    {
     "name": "stdout",
     "output_type": "stream",
     "text": [
      "<class 'str'>\n",
      "<class 'int'>\n",
      "<class 'float'>\n",
      "<class 'complex'>\n",
      "<class 'list'>\n",
      "<class 'tuple'>\n",
      "<class 'range'>\n",
      "<class 'dict'>\n",
      "<class 'set'>\n",
      "<class 'frozenset'>\n",
      "<class 'bool'>\n",
      "<class 'bytes'>\n",
      "<class 'bytearray'>\n",
      "<class 'memoryview'>\n",
      "<class 'NoneType'>\n"
     ]
    }
   ],
   "source": [
    "x = \"Hello World\" #str\n",
    "print(type(x))\n",
    "x = 2 #int\n",
    "print(type(x))\n",
    "x = 2.5 #float\n",
    "print(type(x))\n",
    "x = 7j #complex\n",
    "print(type(x))\n",
    "x = [\"apple\", \"banana\", \"cherry\"] #list\n",
    "print(type(x))\n",
    "x = (\"apple\", \"banana\", \"cherry\") #tuple\n",
    "print(type(x))\n",
    "x = range(6) #range\n",
    "print(type(x))\n",
    "x = {\"name\" : \"Tom\", \"age\" : 20} #dict\n",
    "print(type(x))\n",
    "x = {\"apple\", \"banana\", \"cherry\"} #set\n",
    "print(type(x))\n",
    "x = frozenset({\"apple\", \"banana\", \"cherry\"})#frozenset\n",
    "print(type(x))\n",
    "x = True #bool\n",
    "print(type(x))\n",
    "x = b\"Hello\" #bytes\n",
    "print(type(x))\n",
    "x = bytearray(5) #bytearray\n",
    "print(type(x))\n",
    "x = memoryview(bytes(5)) #memoryview\n",
    "print(type(x))\n",
    "x = None #NoneType\n",
    "print(type(x))"
   ]
  },
  {
   "cell_type": "markdown",
   "id": "25f1cdbb",
   "metadata": {},
   "source": [
    "## Python Casting"
   ]
  },
  {
   "cell_type": "code",
   "execution_count": 25,
   "id": "1f1948ac",
   "metadata": {},
   "outputs": [
    {
     "name": "stdout",
     "output_type": "stream",
     "text": [
      "3 <class 'str'>\n",
      "3 <class 'int'>\n",
      "3.0 <class 'float'>\n"
     ]
    }
   ],
   "source": [
    "x = str(3)\n",
    "y = int(3)\n",
    "z = float(3)\n",
    "print(x, type(x))\n",
    "print(y, type(y))\n",
    "print(z, type(z))"
   ]
  },
  {
   "cell_type": "markdown",
   "id": "0d2b282c",
   "metadata": {},
   "source": [
    "## Python Numbers"
   ]
  },
  {
   "cell_type": "code",
   "execution_count": 26,
   "id": "e8eb263e",
   "metadata": {},
   "outputs": [
    {
     "name": "stdout",
     "output_type": "stream",
     "text": [
      "2 <class 'int'>\n",
      "3.4 <class 'float'>\n",
      "7j <class 'complex'>\n"
     ]
    }
   ],
   "source": [
    "x = 2 # int\n",
    "y = 3.4 # float\n",
    "z = 7j #complex\n",
    "print(x, type(x))\n",
    "print(y, type(y))\n",
    "print(z, type(z))"
   ]
  },
  {
   "cell_type": "markdown",
   "id": "21862ca3",
   "metadata": {},
   "source": [
    "## Python Basic Operators"
   ]
  },
  {
   "cell_type": "code",
   "execution_count": 27,
   "id": "4d77be8b",
   "metadata": {},
   "outputs": [
    {
     "name": "stdout",
     "output_type": "stream",
     "text": [
      "7 + 2 = 9\n",
      "7 - 2 = 5\n",
      "7 * 2 = 14\n",
      "7 / 2 = 3.5\n",
      "7 // 2 = 3\n",
      "7 % 2 = 1\n",
      "7 ** 2 = 49\n"
     ]
    }
   ],
   "source": [
    "print('7 + 2 =', 7 + 2)\n",
    "print('7 - 2 =', 7 - 2)\n",
    "print('7 * 2 =', 7 * 2)\n",
    "print('7 / 2 =', 7 / 2)\n",
    "print('7 // 2 =', 7 // 2)\n",
    "print('7 % 2 =', 7 % 2)\n",
    "print('7 ** 2 =', 7 ** 2)"
   ]
  },
  {
   "cell_type": "markdown",
   "id": "aa3ecffc",
   "metadata": {},
   "source": [
    "## Python Booleans: True or False"
   ]
  },
  {
   "cell_type": "code",
   "execution_count": 28,
   "id": "23ead743",
   "metadata": {},
   "outputs": [
    {
     "name": "stdout",
     "output_type": "stream",
     "text": [
      "True\n",
      "False\n",
      "False\n"
     ]
    }
   ],
   "source": [
    "print(3 > 2)\n",
    "print(3 == 2)\n",
    "print(3 < 2)"
   ]
  },
  {
   "cell_type": "markdown",
   "id": "451fb04c",
   "metadata": {},
   "source": [
    "## Python BMI Calculator"
   ]
  },
  {
   "cell_type": "code",
   "execution_count": 29,
   "id": "5259625f",
   "metadata": {},
   "outputs": [
    {
     "name": "stdout",
     "output_type": "stream",
     "text": [
      "Your BMI is: 20.8\n"
     ]
    }
   ],
   "source": [
    "height_cm = 170\n",
    "weight_kg = 60\n",
    "height_m = height_cm/100\n",
    "BMI = (weight_kg/(height_m**2))\n",
    "\n",
    "print(\"Your BMI is: \" + str(round(BMI,1)))"
   ]
  },
  {
   "cell_type": "markdown",
   "id": "79cec81d",
   "metadata": {},
   "source": [
    "## How much is your $100 worth after 7 years?"
   ]
  },
  {
   "cell_type": "code",
   "execution_count": 30,
   "id": "baad102c",
   "metadata": {},
   "outputs": [
    {
     "name": "stdout",
     "output_type": "stream",
     "text": [
      "fv =  194.87\n"
     ]
    }
   ],
   "source": [
    "fv = 100 * 1.1 ** 7\n",
    "print('fv = ', round(fv, 2))"
   ]
  },
  {
   "cell_type": "markdown",
   "id": "394d7874",
   "metadata": {},
   "source": [
    "## Future Value"
   ]
  },
  {
   "cell_type": "code",
   "execution_count": 31,
   "id": "bd444144",
   "metadata": {},
   "outputs": [
    {
     "name": "stdout",
     "output_type": "stream",
     "text": [
      "194.87\n"
     ]
    }
   ],
   "source": [
    "pv = 100\n",
    "r = 0.1\n",
    "n = 7\n",
    "fv = pv * ((1 + (r)) ** n)\n",
    "print(round(fv, 2))"
   ]
  },
  {
   "cell_type": "code",
   "execution_count": 32,
   "id": "27d3c6ae",
   "metadata": {},
   "outputs": [
    {
     "name": "stdout",
     "output_type": "stream",
     "text": [
      "194.87\n"
     ]
    }
   ],
   "source": [
    "amount = 100\n",
    "interest = 10 #10% = 0.01 * 10\n",
    "years = 7\n",
    "\n",
    "future_value = amount * ((1 + (0.01 * interest)) ** years)\n",
    "print(round(future_value, 2))"
   ]
  },
  {
   "cell_type": "markdown",
   "id": "0331b1ec",
   "metadata": {},
   "source": [
    "## Python Data Types"
   ]
  },
  {
   "cell_type": "code",
   "execution_count": 33,
   "id": "61ab0885",
   "metadata": {},
   "outputs": [
    {
     "name": "stdout",
     "output_type": "stream",
     "text": [
      "<class 'list'>\n",
      "<class 'tuple'>\n",
      "<class 'dict'>\n",
      "<class 'set'>\n"
     ]
    }
   ],
   "source": [
    "x = [\"apple\", \"banana\", \"cherry\"] #list\n",
    "print(type(x))\n",
    "x = (\"apple\", \"banana\", \"cherry\") #tuple\n",
    "print(type(x))\n",
    "x = {\"name\" : \"Tom\", \"age\" : 20} #dict\n",
    "print(type(x))\n",
    "x = {\"apple\", \"banana\", \"cherry\"} #set\n",
    "print(type(x))"
   ]
  },
  {
   "cell_type": "markdown",
   "id": "b80f98b2",
   "metadata": {},
   "source": [
    "## Lists []"
   ]
  },
  {
   "cell_type": "code",
   "execution_count": 34,
   "id": "d5664d19",
   "metadata": {},
   "outputs": [
    {
     "name": "stdout",
     "output_type": "stream",
     "text": [
      "4\n",
      "60\n",
      "70\n",
      "90\n"
     ]
    }
   ],
   "source": [
    "x = [60, 70, 80, 90]\n",
    "print(len(x))\n",
    "print(x[0])\n",
    "print(x[1])\n",
    "print(x[-1])"
   ]
  },
  {
   "cell_type": "markdown",
   "id": "848378d5",
   "metadata": {},
   "source": [
    "## Tuples ()"
   ]
  },
  {
   "cell_type": "code",
   "execution_count": 35,
   "id": "a1546981",
   "metadata": {},
   "outputs": [
    {
     "name": "stdout",
     "output_type": "stream",
     "text": [
      "10\n",
      "20\n",
      "30\n",
      "50\n"
     ]
    }
   ],
   "source": [
    "x = (10, 20, 30, 40, 50)\n",
    "print(x[0])\n",
    "print(x[1])\n",
    "print(x[2])\n",
    "print(x[-1])"
   ]
  },
  {
   "cell_type": "markdown",
   "id": "458043ba",
   "metadata": {},
   "source": [
    "## Sets {}"
   ]
  },
  {
   "cell_type": "code",
   "execution_count": 36,
   "id": "a20184d8",
   "metadata": {},
   "outputs": [
    {
     "name": "stdout",
     "output_type": "stream",
     "text": [
      "True\n",
      "False\n",
      "True\n",
      "3\n",
      "3\n",
      "2\n"
     ]
    }
   ],
   "source": [
    "animals = {'cat', 'dog'}\n",
    "print('cat' in animals)\n",
    "print('fish' in animals)\n",
    "animals.add('fish')\n",
    "print('fish' in animals)\n",
    "print(len(animals))\n",
    "animals.add('cat')\n",
    "print(len(animals))\n",
    "animals.remove('cat')\n",
    "print(len(animals))"
   ]
  },
  {
   "cell_type": "markdown",
   "id": "480b7a01",
   "metadata": {},
   "source": [
    "## Dictionary {key : value}"
   ]
  },
  {
   "cell_type": "code",
   "execution_count": 37,
   "id": "37c41c77",
   "metadata": {},
   "outputs": [
    {
     "name": "stdout",
     "output_type": "stream",
     "text": [
      "English\n"
     ]
    }
   ],
   "source": [
    "k = { 'EN':'English', 'FR':'French' }\n",
    "print(k['EN'])"
   ]
  },
  {
   "cell_type": "markdown",
   "id": "72efa6c0",
   "metadata": {},
   "source": [
    "## Python Data Structures"
   ]
  },
  {
   "cell_type": "code",
   "execution_count": 38,
   "id": "d3a3f7fa",
   "metadata": {},
   "outputs": [
    {
     "name": "stdout",
     "output_type": "stream",
     "text": [
      "<class 'list'>\n",
      "<class 'tuple'>\n",
      "<class 'set'>\n",
      "<class 'dict'>\n"
     ]
    }
   ],
   "source": [
    "fruits = [\"apple\", \"banana\", \"cherry\"] #lists []\n",
    "print(type(fruits))\n",
    "colors = (\"red\", \"green\", \"blue\") #tuples ()\n",
    "print(type(colors))\n",
    "animals = {'cat', 'dog'} #sets {}\n",
    "print(type(animals))\n",
    "person = {\"name\" : \"Tom\", \"age\" : 20} #dictionaries {}\n",
    "print(type(person))"
   ]
  },
  {
   "cell_type": "code",
   "execution_count": 39,
   "id": "f50137f3",
   "metadata": {},
   "outputs": [
    {
     "name": "stdout",
     "output_type": "stream",
     "text": [
      "Account name: Cash Account number: 1001\n",
      "Account name: Accounts Receivable Account number: 1002\n",
      "Account name: Inventory Account number: 1003\n"
     ]
    }
   ],
   "source": [
    "# Python Tuples\n",
    "accounts = ((\"Cash\", 1001), (\"Accounts Receivable\", 1002),\n",
    "(\"Inventory\", 1003))\n",
    "for account in accounts:\n",
    "    print(\"Account name:\", account[0], \"Account number:\", account[1])"
   ]
  },
  {
   "cell_type": "code",
   "execution_count": 40,
   "id": "4d2921b6",
   "metadata": {},
   "outputs": [
    {
     "name": "stdout",
     "output_type": "stream",
     "text": [
      "Account number 1004 is not in use.\n"
     ]
    }
   ],
   "source": [
    "# Python Sets\n",
    "account_numbers = {1001, 1002, 1003}\n",
    "new_account_number = 1004\n",
    "if new_account_number not in account_numbers:\n",
    "    print(\"Account number\", new_account_number, \"is not in use.\")"
   ]
  },
  {
   "cell_type": "code",
   "execution_count": 41,
   "id": "d9470340",
   "metadata": {},
   "outputs": [
    {
     "name": "stdout",
     "output_type": "stream",
     "text": [
      "Account number: 1001\n",
      "Account name: Cash\n",
      "Account balance: 500.0\n",
      "Account type: Asset\n",
      "Account number: 1002\n",
      "Account name: Accounts Receivable\n",
      "Account balance: 1000.0\n",
      "Account type: Asset\n",
      "Account number: 2001\n",
      "Account name: Accounts Payable\n",
      "Account balance: 750.0\n",
      "Account type: Liability\n"
     ]
    }
   ],
   "source": [
    "# Python Dictionaries\n",
    "accounts = {\"1001\": {\"name\": \"Cash\", \"balance\": 500.00, \"type\": \"Asset\"},\n",
    "\"1002\": {\"name\": \"Accounts Receivable\", \"balance\": 1000.00, \"type\": \"Asset\"},\n",
    "\"2001\": {\"name\": \"Accounts Payable\", \"balance\": 750.00, \"type\": \"Liability\"}}\n",
    "for account_number, account_info in accounts.items():\n",
    "    print(\"Account number:\", account_number)\n",
    "    print(\"Account name:\", account_info[\"name\"])\n",
    "    print(\"Account balance:\", account_info[\"balance\"])\n",
    "    print(\"Account type:\", account_info[\"type\"])"
   ]
  },
  {
   "cell_type": "markdown",
   "id": "7f796825",
   "metadata": {},
   "source": [
    "## Python if"
   ]
  },
  {
   "cell_type": "code",
   "execution_count": 42,
   "id": "34f1efe7",
   "metadata": {},
   "outputs": [
    {
     "name": "stdout",
     "output_type": "stream",
     "text": [
      "Pass\n"
     ]
    }
   ],
   "source": [
    "score = 80\n",
    "if score >=60 :\n",
    "    print(\"Pass\")"
   ]
  },
  {
   "cell_type": "markdown",
   "id": "d66799cf",
   "metadata": {},
   "source": [
    "## Python if else"
   ]
  },
  {
   "cell_type": "code",
   "execution_count": 43,
   "id": "d75cee3c",
   "metadata": {},
   "outputs": [
    {
     "name": "stdout",
     "output_type": "stream",
     "text": [
      "Pass\n"
     ]
    }
   ],
   "source": [
    "score = 80\n",
    "if score >=60 :\n",
    "    print(\"Pass\")\n",
    "else:\n",
    "    print(\"Fail\")"
   ]
  },
  {
   "cell_type": "markdown",
   "id": "16a3c40d",
   "metadata": {},
   "source": [
    "## Python if elif else"
   ]
  },
  {
   "cell_type": "code",
   "execution_count": 44,
   "id": "3d95d0d4",
   "metadata": {},
   "outputs": [
    {
     "name": "stdout",
     "output_type": "stream",
     "text": [
      "A\n"
     ]
    }
   ],
   "source": [
    "score = 95\n",
    "if score >= 90 :\n",
    "    print(\"A\")\n",
    "elif score >=60 :\n",
    "    print(\"Pass\")\n",
    "else:\n",
    "    print(\"Fail\")"
   ]
  },
  {
   "cell_type": "markdown",
   "id": "c8f2e370",
   "metadata": {},
   "source": [
    "## Python if elif else"
   ]
  },
  {
   "cell_type": "code",
   "execution_count": 45,
   "id": "c91e3380",
   "metadata": {},
   "outputs": [
    {
     "name": "stdout",
     "output_type": "stream",
     "text": [
      "A\n"
     ]
    }
   ],
   "source": [
    "# Python if elif else\n",
    "score = 90\n",
    "grade = \"\"\n",
    "if score >=90:\n",
    "    grade = \"A\"\n",
    "elif score >= 80:\n",
    "    grade = \"B\"\n",
    "elif score >= 70:\n",
    "    grade = \"C\"\n",
    "elif score >= 60:\n",
    "    grade = \"D\"\n",
    "else:\n",
    "    grade = \"E\"\n",
    "print(grade)"
   ]
  },
  {
   "cell_type": "markdown",
   "id": "6ed7bab8",
   "metadata": {},
   "source": [
    "## Python for Loops"
   ]
  },
  {
   "cell_type": "code",
   "execution_count": 46,
   "id": "e4bea72a",
   "metadata": {},
   "outputs": [
    {
     "name": "stdout",
     "output_type": "stream",
     "text": [
      "1\n",
      "2\n",
      "3\n",
      "4\n",
      "5\n"
     ]
    }
   ],
   "source": [
    "for i in range(1,6):\n",
    "    print(i)"
   ]
  },
  {
   "cell_type": "code",
   "execution_count": 47,
   "id": "8a458580",
   "metadata": {},
   "outputs": [
    {
     "name": "stdout",
     "output_type": "stream",
     "text": [
      "1  *  1  =  1\n",
      "1  *  2  =  2\n",
      "1  *  3  =  3\n",
      "1  *  4  =  4\n",
      "1  *  5  =  5\n",
      "1  *  6  =  6\n",
      "1  *  7  =  7\n",
      "1  *  8  =  8\n",
      "1  *  9  =  9\n",
      "2  *  1  =  2\n",
      "2  *  2  =  4\n",
      "2  *  3  =  6\n",
      "2  *  4  =  8\n",
      "2  *  5  =  10\n",
      "2  *  6  =  12\n",
      "2  *  7  =  14\n",
      "2  *  8  =  16\n",
      "2  *  9  =  18\n",
      "3  *  1  =  3\n",
      "3  *  2  =  6\n",
      "3  *  3  =  9\n",
      "3  *  4  =  12\n",
      "3  *  5  =  15\n",
      "3  *  6  =  18\n",
      "3  *  7  =  21\n",
      "3  *  8  =  24\n",
      "3  *  9  =  27\n",
      "4  *  1  =  4\n",
      "4  *  2  =  8\n",
      "4  *  3  =  12\n",
      "4  *  4  =  16\n",
      "4  *  5  =  20\n",
      "4  *  6  =  24\n",
      "4  *  7  =  28\n",
      "4  *  8  =  32\n",
      "4  *  9  =  36\n",
      "5  *  1  =  5\n",
      "5  *  2  =  10\n",
      "5  *  3  =  15\n",
      "5  *  4  =  20\n",
      "5  *  5  =  25\n",
      "5  *  6  =  30\n",
      "5  *  7  =  35\n",
      "5  *  8  =  40\n",
      "5  *  9  =  45\n",
      "6  *  1  =  6\n",
      "6  *  2  =  12\n",
      "6  *  3  =  18\n",
      "6  *  4  =  24\n",
      "6  *  5  =  30\n",
      "6  *  6  =  36\n",
      "6  *  7  =  42\n",
      "6  *  8  =  48\n",
      "6  *  9  =  54\n",
      "7  *  1  =  7\n",
      "7  *  2  =  14\n",
      "7  *  3  =  21\n",
      "7  *  4  =  28\n",
      "7  *  5  =  35\n",
      "7  *  6  =  42\n",
      "7  *  7  =  49\n",
      "7  *  8  =  56\n",
      "7  *  9  =  63\n",
      "8  *  1  =  8\n",
      "8  *  2  =  16\n",
      "8  *  3  =  24\n",
      "8  *  4  =  32\n",
      "8  *  5  =  40\n",
      "8  *  6  =  48\n",
      "8  *  7  =  56\n",
      "8  *  8  =  64\n",
      "8  *  9  =  72\n",
      "9  *  1  =  9\n",
      "9  *  2  =  18\n",
      "9  *  3  =  27\n",
      "9  *  4  =  36\n",
      "9  *  5  =  45\n",
      "9  *  6  =  54\n",
      "9  *  7  =  63\n",
      "9  *  8  =  72\n",
      "9  *  9  =  81\n"
     ]
    }
   ],
   "source": [
    "# for loops\n",
    "for i in range(1,10):\n",
    "    for j in range(1,10):\n",
    "        print(i, ' * ' , j , ' = ', i*j)"
   ]
  },
  {
   "cell_type": "markdown",
   "id": "85b9eb20",
   "metadata": {},
   "source": [
    "## Python while loops"
   ]
  },
  {
   "cell_type": "code",
   "execution_count": 1,
   "id": "2b730ab7",
   "metadata": {},
   "outputs": [
    {
     "name": "stdout",
     "output_type": "stream",
     "text": [
      "10\n",
      "11\n",
      "12\n",
      "13\n",
      "14\n",
      "15\n",
      "16\n",
      "17\n",
      "18\n",
      "19\n"
     ]
    }
   ],
   "source": [
    "# while loops\n",
    "age = 10\n",
    "while age < 20:\n",
    "    print(age)\n",
    "    age = age + 1"
   ]
  },
  {
   "cell_type": "markdown",
   "id": "d1099649",
   "metadata": {},
   "source": [
    "## Python Function def"
   ]
  },
  {
   "cell_type": "code",
   "execution_count": 2,
   "id": "69aaafe1",
   "metadata": {},
   "outputs": [
    {
     "name": "stdout",
     "output_type": "stream",
     "text": [
      "194.87\n"
     ]
    }
   ],
   "source": [
    "# Python Function def\n",
    "# indentation for blocks. four spaces\n",
    "def getfv(pv, r, n):\n",
    "    fv = pv * ((1 + (r)) ** n)\n",
    "    return fv\n",
    "fv = getfv(100, 0.1, 7)\n",
    "print(round(fv, 2))"
   ]
  },
  {
   "cell_type": "markdown",
   "id": "60fdd3a2",
   "metadata": {},
   "source": [
    "## Python Classes/Objects"
   ]
  },
  {
   "cell_type": "code",
   "execution_count": null,
   "id": "f656640a",
   "metadata": {},
   "outputs": [
    {
     "name": "stdout",
     "output_type": "stream",
     "text": [
      "5\n"
     ]
    }
   ],
   "source": [
    "class MyClass:\n",
    "    x = 5\n",
    "c1 = MyClass()\n",
    "print(c1.x)"
   ]
  },
  {
   "cell_type": "code",
   "execution_count": null,
   "id": "b010c6a1",
   "metadata": {},
   "outputs": [
    {
     "name": "stdout",
     "output_type": "stream",
     "text": [
      "Alan\n",
      "20\n"
     ]
    }
   ],
   "source": [
    "class Person:\n",
    "    def __init__(self, name, age):\n",
    "        self.name = name\n",
    "        self.age = age\n",
    "p1 = Person(\"Alan\", 20)\n",
    "print(p1.name)\n",
    "print(p1.age)"
   ]
  },
  {
   "cell_type": "code",
   "execution_count": 4,
   "id": "edc8345e",
   "metadata": {},
   "outputs": [
    {
     "name": "stdout",
     "output_type": "stream",
     "text": [
      "Hello my name is Alan\n"
     ]
    }
   ],
   "source": [
    "class Person:\n",
    "    def __init__(self, name, age):\n",
    "        self.name = name\n",
    "        self.age = age\n",
    "\n",
    "    def myfunc(self):\n",
    "        print(\"Hello my name is \" + self.name)\n",
    "\n",
    "p1 = Person(\"Alan\", 20)\n",
    "p1.myfunc()"
   ]
  },
  {
   "cell_type": "code",
   "execution_count": 5,
   "id": "5c976d7c",
   "metadata": {},
   "outputs": [
    {
     "name": "stdout",
     "output_type": "stream",
     "text": [
      "Hello my name is Alan\n",
      "Alan\n",
      "20\n"
     ]
    }
   ],
   "source": [
    "class Person:\n",
    "    def __init__(self, name, age):\n",
    "        self.name = name\n",
    "        self.age = age\n",
    "\n",
    "    def myfunc(self):\n",
    "        print(\"Hello my name is \" + self.name)\n",
    "\n",
    "p1 = Person(\"Alan\", 20)\n",
    "p1.myfunc()\n",
    "print(p1.name)\n",
    "print(p1.age)"
   ]
  },
  {
   "cell_type": "code",
   "execution_count": 6,
   "id": "d79ead12",
   "metadata": {},
   "outputs": [],
   "source": [
    "class Vehicle:\n",
    "    name = \"\"\n",
    "    kind = \"car\"\n",
    "    color = \"\"\n",
    "    value = 100.00\n",
    "    def description(self):\n",
    "        desc_str = \"%s is a %s %s worth $%.2f.\" % (self.name, self.color, self.kind, self.value)\n",
    "        return desc_str"
   ]
  },
  {
   "cell_type": "markdown",
   "id": "b40c5e81",
   "metadata": {},
   "source": [
    "## Python Modules"
   ]
  },
  {
   "cell_type": "code",
   "execution_count": null,
   "id": "127893d2",
   "metadata": {},
   "outputs": [
    {
     "name": "stdout",
     "output_type": "stream",
     "text": [
      "Hello, Alan\n"
     ]
    }
   ],
   "source": [
    "import mymodule\n",
    "mymodule.greeting(\"Alan\")"
   ]
  },
  {
   "cell_type": "markdown",
   "id": "ab03d5c6",
   "metadata": {},
   "source": [
    "## Python File Input / Output"
   ]
  },
  {
   "cell_type": "code",
   "execution_count": null,
   "id": "51501ed7",
   "metadata": {},
   "outputs": [
    {
     "name": "stdout",
     "output_type": "stream",
     "text": [
      "Hello World\n",
      "This is Python File Input Output\n"
     ]
    }
   ],
   "source": [
    "with open('myfile.txt', 'w') as file:\n",
    "    file.write('Hello World\\nThis is Python File Input Output')\n",
    "\n",
    "with open('myfile.txt', 'r') as file:\n",
    "    text = file.read()\n",
    "    print(text)"
   ]
  },
  {
   "cell_type": "code",
   "execution_count": null,
   "id": "52667ded",
   "metadata": {},
   "outputs": [
    {
     "name": "stdout",
     "output_type": "stream",
     "text": [
      "mymodule.py\n",
      "def greeting(name):\n",
      "    print(\"Hello, \" + name)\n"
     ]
    }
   ],
   "source": [
    "filename = 'mymodule.py'\n",
    "with open(filename, 'w') as file:\n",
    "    text = '''def greeting(name):\n",
    "    print(\"Hello, \" + name)'''\n",
    "    file.write(text)\n",
    "\n",
    "with open(filename, 'r') as file:\n",
    "    text = file.read()\n",
    "print(filename)\n",
    "print(text)"
   ]
  },
  {
   "cell_type": "markdown",
   "id": "e9035d66",
   "metadata": {},
   "source": [
    "## Python Modules"
   ]
  },
  {
   "cell_type": "code",
   "execution_count": null,
   "id": "af5b463a",
   "metadata": {},
   "outputs": [
    {
     "name": "stdout",
     "output_type": "stream",
     "text": [
      "Hello, Alan\n"
     ]
    }
   ],
   "source": [
    "import mymodule\n",
    "mymodule.greeting(\"Alan\")"
   ]
  },
  {
   "cell_type": "markdown",
   "id": "c2970307",
   "metadata": {},
   "source": [
    "## Python main() function"
   ]
  },
  {
   "cell_type": "code",
   "execution_count": null,
   "id": "b4d7fd88",
   "metadata": {},
   "outputs": [
    {
     "name": "stdout",
     "output_type": "stream",
     "text": [
      "Hello World!\n"
     ]
    }
   ],
   "source": [
    "def main():\n",
    "    print(\"Hello World!\")\n",
    "if __name__ == \"__main__\":\n",
    "    main()"
   ]
  },
  {
   "cell_type": "markdown",
   "id": "9dfd48ae",
   "metadata": {},
   "source": [
    "## Python Files (File Handling)"
   ]
  },
  {
   "cell_type": "code",
   "execution_count": null,
   "id": "13f59444",
   "metadata": {},
   "outputs": [
    {
     "name": "stdout",
     "output_type": "stream",
     "text": [
      "Hello World\n"
     ]
    }
   ],
   "source": [
    "f = open(\"myfile.txt\", \"w\")\n",
    "f.write(\"Hello World\")\n",
    "f.close()\n",
    "\n",
    "f = open(\"myfile.txt\", \"r\")\n",
    "\n",
    "text = f.read()\n",
    "print(text)\n",
    "f.close()"
   ]
  },
  {
   "cell_type": "code",
   "execution_count": null,
   "id": "aca89c00",
   "metadata": {},
   "outputs": [],
   "source": [
    "# Python File Input / Output\n",
    "with open('myfile.txt', 'w') as file:\n",
    "    file.write('Hello World')\n",
    "\n",
    "with open('myfile.txt', 'r') as file:\n",
    "    text = file.read()\n",
    "print(text)"
   ]
  },
  {
   "cell_type": "code",
   "execution_count": null,
   "id": "e158c493",
   "metadata": {},
   "outputs": [],
   "source": [
    "# Python File Input / Output\n",
    "with open('myfile.txt', 'w') as file:\n",
    "    file.write('Hello World\\nPython File IO')\n",
    "\n",
    "with open('myfile.txt', 'r') as file:\n",
    "    text = file.read()\n",
    "print(text)"
   ]
  },
  {
   "cell_type": "code",
   "execution_count": null,
   "id": "f4ff2525",
   "metadata": {},
   "outputs": [],
   "source": [
    "# Python File Input / Output\n",
    "with open('myfile.txt', 'a+') as file:\n",
    "    file.write('\\n' + 'New line')\n",
    "\n",
    "with open('myfile.txt', 'r') as file:\n",
    "    text = file.read()\n",
    "print(text)"
   ]
  },
  {
   "cell_type": "markdown",
   "id": "02a5b9c3",
   "metadata": {},
   "source": [
    "## Python Files"
   ]
  },
  {
   "cell_type": "code",
   "execution_count": null,
   "id": "366ee511",
   "metadata": {},
   "outputs": [],
   "source": [
    "# !ls list files\n",
    "# !ls"
   ]
  },
  {
   "cell_type": "markdown",
   "id": "3d225331",
   "metadata": {},
   "source": [
    "## Python OS, IO, files, and Google Drive"
   ]
  },
  {
   "cell_type": "code",
   "execution_count": null,
   "id": "8f30dda0",
   "metadata": {},
   "outputs": [
    {
     "name": "stdout",
     "output_type": "stream",
     "text": [
      "c:\\Users\\PC\\Desktop\\Pythonex\n"
     ]
    }
   ],
   "source": [
    "import os\n",
    "cwd = os.getcwd()\n",
    "print(cwd)"
   ]
  },
  {
   "cell_type": "markdown",
   "id": "839f0de9",
   "metadata": {},
   "source": [
    "## os.path.join()"
   ]
  },
  {
   "cell_type": "code",
   "execution_count": null,
   "id": "8603c286",
   "metadata": {},
   "outputs": [],
   "source": [
    "path = os.path.join(cwd,'sample_data')\n",
    "print(path)\n",
    "os.listdir(path)"
   ]
  },
  {
   "cell_type": "markdown",
   "id": "38329ed7",
   "metadata": {},
   "source": [
    "## from google.colab import files"
   ]
  },
  {
   "cell_type": "code",
   "execution_count": null,
   "id": "ddab92ae",
   "metadata": {},
   "outputs": [],
   "source": [
    "from google.colab import files\n",
    "\n",
    "with open('io_file_myday.txt', 'w') as f:\n",
    "    f.write('Google Colab File Write Text some content Myday')\n",
    "\n",
    "import time\n",
    "time.sleep(1) # time sleep 1 second\n",
    "files.download('io_file_myday.txt')\n",
    "print('downloaded')"
   ]
  },
  {
   "cell_type": "markdown",
   "id": "62bcba90",
   "metadata": {},
   "source": [
    "## Python Files"
   ]
  },
  {
   "cell_type": "code",
   "execution_count": null,
   "id": "146bb7ab",
   "metadata": {},
   "outputs": [],
   "source": [
    "from google.colab import files\n",
    "uploaded = files.upload()\n",
    "for fn in uploaded.keys():\n",
    "    print('User uploaded file \"{name}\" with length {length} bytes'.format(\n",
    "        name=fn, length=len(uploaded[fn])\n",
    "    ))"
   ]
  },
  {
   "cell_type": "markdown",
   "id": "5594d053",
   "metadata": {},
   "source": [
    "## os.remove()"
   ]
  },
  {
   "cell_type": "code",
   "execution_count": null,
   "id": "350d0a17",
   "metadata": {},
   "outputs": [
    {
     "name": "stdout",
     "output_type": "stream",
     "text": [
      "myfile.txt removed\n"
     ]
    }
   ],
   "source": [
    "import os\n",
    "if os.path.exists(\"myfile.txt\"):\n",
    "    os.remove(\"myfile.txt\")\n",
    "    print(\"myfile.txt removed\")\n",
    "else:\n",
    "    print(\"The file does not exist\")"
   ]
  },
  {
   "cell_type": "code",
   "execution_count": null,
   "id": "713fac70",
   "metadata": {},
   "outputs": [],
   "source": [
    "import os\n",
    "os.listdir()\n",
    "os.mkdir(\"myfolder1\")\n",
    "os.listdir()\n",
    "os.rmdir(\"myfolder1\")\n",
    "os.listdir()"
   ]
  },
  {
   "cell_type": "markdown",
   "id": "8c146890",
   "metadata": {},
   "source": [
    "## Python Try Except (Exception Handling)"
   ]
  },
  {
   "cell_type": "code",
   "execution_count": null,
   "id": "0c3ec91e",
   "metadata": {},
   "outputs": [],
   "source": [
    "try:\n",
    "    print(x)\n",
    "except:\n",
    "    print(\"Exception Error\")"
   ]
  },
  {
   "cell_type": "markdown",
   "id": "bcae3550",
   "metadata": {},
   "source": [
    "## Python try: except: finally:"
   ]
  },
  {
   "cell_type": "code",
   "execution_count": null,
   "id": "97562409",
   "metadata": {},
   "outputs": [],
   "source": [
    "try:\n",
    "    print(\"Hello\")\n",
    "except:\n",
    "    print(\"Exception Error\")\n",
    "finally:\n",
    "    print(\"Finally process\")"
   ]
  },
  {
   "cell_type": "markdown",
   "id": "350a1ff4",
   "metadata": {},
   "source": [
    "## Python try: except: else:"
   ]
  },
  {
   "cell_type": "code",
   "execution_count": null,
   "id": "b60a52bd",
   "metadata": {},
   "outputs": [],
   "source": [
    "#Python try except else\n",
    "try:\n",
    "    print(\"Hello\")\n",
    "except:\n",
    "    print(\"Exception Error\")\n",
    "else:\n",
    "    print(\"No exception\")"
   ]
  },
  {
   "cell_type": "markdown",
   "id": "35b6897f",
   "metadata": {},
   "source": [
    "## Python try: except: else: finally:"
   ]
  },
  {
   "cell_type": "code",
   "execution_count": null,
   "id": "aa97857b",
   "metadata": {},
   "outputs": [],
   "source": [
    "try:\n",
    "    print(\"Hello\")\n",
    "except:\n",
    "    print(\"Exception Error\")\n",
    "else:\n",
    "    print(\"No exception\")\n",
    "finally:\n",
    "    print(\"Finally process\")"
   ]
  },
  {
   "cell_type": "markdown",
   "id": "dbfbee4c",
   "metadata": {},
   "source": [
    "## Python try: except: else: finally:"
   ]
  },
  {
   "cell_type": "code",
   "execution_count": null,
   "id": "1e6d3fc1",
   "metadata": {},
   "outputs": [],
   "source": [
    "try:\n",
    "    price = float(input(\"Enter the price of the stock (e.g. 10):\"))\n",
    "    shares = int(input(\"Enter the number of shares (e.g. 2):\"))\n",
    "    total = price * shares\n",
    "except Exception as e:\n",
    "    print(\"Exception error:\", str(e))\n",
    "else:\n",
    "    print(\"The total value of the shares is:\", total)\n",
    "finally:\n",
    "    print(\"Thank you.\")"
   ]
  },
  {
   "cell_type": "markdown",
   "id": "09ee72bc",
   "metadata": {},
   "source": [
    "## Python try: except: else: finally:"
   ]
  },
  {
   "cell_type": "code",
   "execution_count": 51,
   "id": "ba0af0df",
   "metadata": {},
   "outputs": [
    {
     "name": "stdout",
     "output_type": "stream",
     "text": [
      "Exception file Error\n"
     ]
    }
   ],
   "source": [
    "try:\n",
    "    file = open(\"myfile.txt\")\n",
    "    file.write(\"Python write file\")\n",
    "    print(\"file saved\")\n",
    "except:\n",
    "    print(\"Exception file Error\")"
   ]
  },
  {
   "cell_type": "code",
   "execution_count": 50,
   "id": "3e24cd28",
   "metadata": {},
   "outputs": [
    {
     "name": "stdout",
     "output_type": "stream",
     "text": [
      "Exception file Error\n",
      "Finally process\n"
     ]
    }
   ],
   "source": [
    "try:\n",
    "    file = open(\"myfile.txt\")\n",
    "    file.write(\"Python write file\")\n",
    "    print(\"file saved\")\n",
    "except:\n",
    "    print(\"Exception file Error\")\n",
    "finally:\n",
    "    file.close()\n",
    "    print(\"Finally process\")"
   ]
  },
  {
   "cell_type": "code",
   "execution_count": 49,
   "id": "4c7c0df1",
   "metadata": {},
   "outputs": [
    {
     "name": "stdout",
     "output_type": "stream",
     "text": [
      "file saved\n",
      "Finally process\n"
     ]
    }
   ],
   "source": [
    "try:\n",
    "    file = open(\"myfile.txt\", 'w')\n",
    "    file.write(\"Python write file\")\n",
    "    print(\"file saved\")\n",
    "except:\n",
    "    print(\"Exception file Error\")\n",
    "finally:\n",
    "    file.close()\n",
    "    print(\"Finally process\")"
   ]
  },
  {
   "cell_type": "markdown",
   "id": "e2b99023",
   "metadata": {},
   "source": [
    "# KẾT THÚC"
   ]
  }
 ],
 "metadata": {
  "kernelspec": {
   "display_name": "Python 3",
   "language": "python",
   "name": "python3"
  },
  "language_info": {
   "codemirror_mode": {
    "name": "ipython",
    "version": 3
   },
   "file_extension": ".py",
   "mimetype": "text/x-python",
   "name": "python",
   "nbconvert_exporter": "python",
   "pygments_lexer": "ipython3",
   "version": "3.13.0"
  }
 },
 "nbformat": 4,
 "nbformat_minor": 5
}
